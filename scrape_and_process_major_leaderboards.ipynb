{
 "cells": [
  {
   "cell_type": "markdown",
   "id": "80499b1d-9dc0-4f85-a0aa-1f53894dc6f6",
   "metadata": {},
   "source": [
    "europeantour.com has everything but not easily scrapable\n",
    "https://www.europeantour.com/european-tour/masters-tournament-1990/results?round=4"
   ]
  },
  {
   "cell_type": "code",
   "execution_count": 1,
   "id": "8ee51508-658d-4e97-9833-25e611bb8545",
   "metadata": {},
   "outputs": [],
   "source": [
    "import csv, re, time\n",
    "import numpy as np\n",
    "import pandas as pd\n",
    "from scipy.stats import kendalltau, iqr"
   ]
  },
  {
   "cell_type": "code",
   "execution_count": 2,
   "id": "a3e68a22-fe25-4579-a278-051217758e66",
   "metadata": {},
   "outputs": [],
   "source": [
    "import mechanize\n",
    "from selenium import webdriver"
   ]
  },
  {
   "cell_type": "code",
   "execution_count": 3,
   "id": "6ff19be0-def7-478c-b3f5-6cbceec4245e",
   "metadata": {},
   "outputs": [],
   "source": [
    "br = mechanize.Browser()\n",
    "\n",
    "br.set_handle_robots(False)\n",
    "br.addheaders = [('User-agent', 'Mozilla/5.0 (X11; U; Linux i686; en-US; rv:1.9.0.1) Gecko/2008071615 Fedora/3.0.1-1.fc9 Firefox/3.0.1')]\n"
   ]
  },
  {
   "cell_type": "markdown",
   "id": "cab39793-71c5-4d6b-b4fc-df110362cfd1",
   "metadata": {},
   "source": [
    "## The Open"
   ]
  },
  {
   "cell_type": "code",
   "execution_count": 4,
   "id": "188a5a2f-9008-4a0a-8548-320947be4754",
   "metadata": {},
   "outputs": [],
   "source": [
    "response = br.open('https://www.theopen.com/previous-opens')"
   ]
  },
  {
   "cell_type": "code",
   "execution_count": 5,
   "id": "ea77cc02-f0c8-41ae-8da0-7190f0478834",
   "metadata": {},
   "outputs": [],
   "source": [
    "last_ten_opens_links = ['https://www.theopen.com'+l.url for l in br.links() if 'previous-opens/1' in l.url]\n",
    "\n",
    "#last_ten_opens_links"
   ]
  },
  {
   "cell_type": "code",
   "execution_count": 6,
   "id": "878eccfc-f2b2-4bf3-8555-7eed4cfa837b",
   "metadata": {},
   "outputs": [],
   "source": [
    "#Can't easily access the links for 1990-2009 - easiest to add them manually\n",
    "prev_twenty_opens_links = ['138th-open-turnberry-2009',\n",
    "                           '137th-open-royal-birkdale-2008',\n",
    "                           '136th-open-carnoustie-2007',\n",
    "                           '135th-open-royal-liverpool-2006',\n",
    "                           '134th-open-st-andrews-2005',\n",
    "                           '133rd-open-royal-troon-2004',\n",
    "                           '132nd-open-royal-st-georges-2003',\n",
    "                           '131st-open-muirfield-2002',\n",
    "                           '130th-open-royal-lytham-st-annes-2001',\n",
    "                           '129th-open-st-andrews-2000',\n",
    "                           '128th-open-carnoustie-1999',\n",
    "                           '127th-open-royal-birkdale-1998',\n",
    "                           '126th-open-royal-troon-1997',\n",
    "                           '125th-open-royal-lytham-st-annes-1996',\n",
    "                           '124th-open-st-andrews-1995',\n",
    "                           '123rd-open-turnberry-1994',\n",
    "                           '122nd-open-royal-st-georges-1993',\n",
    "                           '121st-open-muirfield-1992',\n",
    "                           '120th-open-royal-birkdale-1991',\n",
    "                           '199th-open-st-andrews-1990'] #this link is named wrongly on the site\n",
    "prev_twenty_opens_links = ['https://www.theopen.com/previous-opens/'+e+'/' for e in prev_twenty_opens_links]"
   ]
  },
  {
   "cell_type": "code",
   "execution_count": 7,
   "id": "c9861a67-1fed-4727-9e1f-b3fe1da7c355",
   "metadata": {},
   "outputs": [],
   "source": [
    "last_thirty_opens_links = last_ten_opens_links + prev_twenty_opens_links"
   ]
  },
  {
   "cell_type": "code",
   "execution_count": 8,
   "id": "2509c7b3-dd52-49b3-ba37-79be1fdf0959",
   "metadata": {},
   "outputs": [],
   "source": [
    "response = br.open('125th-open-royal-lytham-st-annes-1996')\n",
    "pagetext = response.readlines()\n",
    "pagetext = [b.decode() for b in pagetext]"
   ]
  },
  {
   "cell_type": "code",
   "execution_count": 35,
   "id": "dfa72997-a2b6-42a2-9cb4-dacfb3e43501",
   "metadata": {},
   "outputs": [
    {
     "name": "stdout",
     "output_type": "stream",
     "text": [
      "1990 156\n",
      "1991 155\n",
      "1992 156\n",
      "1993 156\n",
      "1994 156\n",
      "1995 157\n",
      "1996 153\n",
      "1997 152\n",
      "1998 153\n",
      "1999 154\n",
      "2000 156\n",
      "2001 154\n",
      "2002 153\n",
      "2003 152\n",
      "2004 156\n",
      "2005 155\n",
      "2006 155\n",
      "2007 156\n",
      "2008 154\n",
      "2009 155\n",
      "2010 156\n",
      "2011 155\n",
      "2012 155\n",
      "2013 153\n",
      "2014 155\n",
      "2015 156\n",
      "2016 154\n",
      "2017 156\n",
      "2018 155\n",
      "2019 156\n"
     ]
    }
   ],
   "source": [
    "theopen_leaderboards_dict = {}\n",
    "\n",
    "for l in last_thirty_opens_links[-1::-1]:\n",
    "    year = l.split('/')[-2].split('-')[-1]\n",
    "    \n",
    "    response = br.open(l)\n",
    "    pagetext = response.readlines()\n",
    "    pagetext = [b.decode() for b in pagetext]\n",
    "        \n",
    "    leaderboard = []\n",
    "    scores = []\n",
    "    for row in pagetext:\n",
    "        if 'leaderboard__content-name' in row or 'final-leaderboard__cell--par' in row:\n",
    "            if scores:\n",
    "                if len(scores) == 5:\n",
    "                    leaderboard.append({'player': player, 'R1': int(scores[1]), 'R2': int(scores[2]), 'R3': int(scores[3]), 'R4': int(scores[4])})\n",
    "                elif len(scores) == 4:\n",
    "                    leaderboard.append({'player': player, 'R1': int(scores[0]), 'R2': int(scores[1]), 'R3': int(scores[2]), 'R4': int(scores[3])})\n",
    "                elif len(scores) == 2:\n",
    "                    leaderboard.append({'player': player, 'R1': int(scores[0]), 'R2': int(scores[1]), 'R3': None, 'R4': None})\n",
    "                scores = []\n",
    "\n",
    "            if 'leaderboard__content-name' in row:\n",
    "                player = re.findall('content-name\">([^<]*)<', row)[0]\n",
    "                #print(player)\n",
    "                scores = []\n",
    "        number = re.findall('<div class=\"final-leaderboard__content\">(\\d{2})</div>', row)\n",
    "        if len(number) > 0:\n",
    "            #print(number[0])\n",
    "            scores.append(number[0])\n",
    "    \n",
    "    print(year, len(leaderboard))\n",
    "    \n",
    "    leaderboard_df = pd.DataFrame(leaderboard)\n",
    "    leaderboard_df['made_cut'] = leaderboard_df['R3'].notnull() & leaderboard_df['R4'].notnull()\n",
    "    leaderboard_df['total_at_R1'] = leaderboard_df['R1']\n",
    "    leaderboard_df['total_at_R2'] = leaderboard_df['R1'] + leaderboard_df['R2']\n",
    "    leaderboard_df['total_at_R3'] = leaderboard_df['total_at_R2'] + leaderboard_df['R3']\n",
    "    leaderboard_df['total_at_R4'] = leaderboard_df['total_at_R3'] + leaderboard_df['R4']\n",
    "    leaderboard_df['pos_at_R1'] = leaderboard_df.apply(lambda row: sum(leaderboard_df.total_at_R1 < row['total_at_R1']) + 1, axis=1)\n",
    "    leaderboard_df['pos_at_R2'] = leaderboard_df.apply(lambda row: sum(leaderboard_df.total_at_R2 < row['total_at_R2']) + 1, axis=1)\n",
    "    leaderboard_df['pos_at_R3'] = leaderboard_df.apply(lambda row: sum(leaderboard_df.total_at_R3 < row['total_at_R3']) + 1, axis=1)\n",
    "    leaderboard_df['pos_at_R4'] = leaderboard_df.apply(lambda row: sum(leaderboard_df.total_at_R4 < row['total_at_R4']) + 1, axis=1)\n",
    "\n",
    "    theopen_leaderboards_dict[int(year)] = leaderboard_df"
   ]
  },
  {
   "cell_type": "code",
   "execution_count": 37,
   "id": "53da5133-dada-46d4-9752-49cd0bcb0d43",
   "metadata": {},
   "outputs": [],
   "source": [
    "driver = webdriver.Firefox()"
   ]
  },
  {
   "cell_type": "code",
   "execution_count": 38,
   "id": "b140496a-fdaf-41f0-984e-78a0f857279f",
   "metadata": {},
   "outputs": [],
   "source": [
    "#Add 2021; there was none in 2020\n",
    "\n",
    "driver.get('https://www.theopen.com/leaderboard')\n",
    "time.sleep(2)\n",
    "\n",
    "if driver.find_elements_by_class_name('cookie-warning__agree-button')[0].is_displayed():\n",
    "    driver.find_elements_by_class_name('cookie-warning__agree-button')[0].click() #clear the cookies pop-up\n",
    "    time.sleep(1)\n",
    "driver.find_elements_by_class_name('leaderboard__cell-r-score-container')[0].click() #show the round scores\n",
    "time.sleep(1)\n",
    "\n",
    "leaderboard = []\n",
    "for row in driver.find_elements_by_class_name('leaderboard__row'):\n",
    "    if 'CHAMPION' in row.find_elements_by_class_name('leaderboard__cell.leaderboard__cell--player')[0].text:\n",
    "        player_name = 'Collin MORIKAWA'\n",
    "    else:\n",
    "        player_name = row.find_elements_by_class_name('leaderboard__cell.leaderboard__cell--player')[0]\\\n",
    "            .find_elements_by_class_name('leaderboard__cell-player-firstname')[0].text + ' ' + row.find_elements_by_class_name('leaderboard__cell-player-lastname')[0].text\n",
    "    scores = row.find_elements_by_class_name('leaderboard__cell.leaderboard__cell--round')\n",
    "    scores = [int(s.text) if s.text != '-' else None for s in scores]\n",
    "    #print(player_name, scores)\n",
    "    leaderboard.append({'player': player_name, 'R1': scores[0], 'R2': scores[1], 'R3': scores[2], 'R4': scores[3]})\n",
    "    \n",
    "leaderboard_df = pd.DataFrame(leaderboard)\n",
    "leaderboard_df['made_cut'] = leaderboard_df['R3'].notnull() & leaderboard_df['R4'].notnull()\n",
    "leaderboard_df['total_at_R1'] = leaderboard_df['R1']\n",
    "leaderboard_df['total_at_R2'] = leaderboard_df['R1'] + leaderboard_df['R2']\n",
    "leaderboard_df['total_at_R3'] = leaderboard_df['total_at_R2'] + leaderboard_df['R3']\n",
    "leaderboard_df['total_at_R4'] = leaderboard_df['total_at_R3'] + leaderboard_df['R4']\n",
    "leaderboard_df['pos_at_R1'] = leaderboard_df.apply(lambda row: sum(leaderboard_df.total_at_R1 < row['total_at_R1']) + 1, axis=1)\n",
    "leaderboard_df['pos_at_R2'] = leaderboard_df.apply(lambda row: sum(leaderboard_df.total_at_R2 < row['total_at_R2']) + 1, axis=1)\n",
    "leaderboard_df['pos_at_R3'] = leaderboard_df.apply(lambda row: sum(leaderboard_df.total_at_R3 < row['total_at_R3']) + 1, axis=1)\n",
    "leaderboard_df['pos_at_R4'] = leaderboard_df.apply(lambda row: sum(leaderboard_df.total_at_R4 < row['total_at_R4']) + 1, axis=1)\n",
    "\n",
    "theopen_leaderboards_dict[2021] = leaderboard_df"
   ]
  },
  {
   "cell_type": "code",
   "execution_count": 39,
   "id": "ed929890-7a43-47de-b1f6-88ecea055778",
   "metadata": {},
   "outputs": [
    {
     "name": "stdout",
     "output_type": "stream",
     "text": [
      "Mean abs pos changes for top half are 22.3, 14.4, 11.3\n"
     ]
    }
   ],
   "source": [
    "#kts_r12, kts_r23, kts_r34 = [], [], []\n",
    "mapc_r12, mapc_r23, mapc_r34 = [], [], []\n",
    "\n",
    "for year, this_l_df in theopen_leaderboards_dict.items():\n",
    "    #print('\\n'+year+'\\n')\n",
    "    \n",
    "    #Compare two ordered lists\n",
    "    order_at_R1 = this_l_df.sort_values('total_at_R1').player.tolist()\n",
    "    order_at_R2 = this_l_df.sort_values('total_at_R2').player.tolist()\n",
    "    order_at_R1_tophalf = this_l_df[this_l_df.made_cut].sort_values('total_at_R1').player.tolist()\n",
    "    order_at_R2_tophalf = this_l_df[this_l_df.made_cut].sort_values('total_at_R2').player.tolist()\n",
    "    order_at_R3_tophalf = this_l_df[this_l_df.made_cut].sort_values('total_at_R3').player.tolist()\n",
    "    order_at_R4_tophalf = this_l_df[this_l_df.made_cut].sort_values('total_at_R4').player.tolist()\n",
    "    #print(f\"{len(order_at_R1)} in R1 list, {len(order_at_R2)} in R2 list, {len(order_at_R2_tophalf)} in R2 cut only list, {len(order_at_R3_tophalf)} in R3 list, {len(order_at_R4_tophalf)} in R4 list\")\n",
    "    \n",
    "    #print(f\"{np.mean([a == b for a,b in zip(order_at_R1, order_at_R2)])*100:.1f}% entries in rankings stayed same R1 to R2 (full)\")\n",
    "    #print(f\"{np.mean([a == b for a,b in zip(order_at_R2_tophalf, order_at_R3_tophalf)])*100:.1f}% entries in rankings stayed same R2 to R3\")\n",
    "    #print(f\"{np.mean([a == b for a,b in zip(order_at_R3_tophalf, order_at_R4_tophalf)])*100:.1f}% entries in rankings stayed same R3 to R4\")\n",
    "    \n",
    "    mapc_r12.append(np.mean(abs(this_l_df[this_l_df.made_cut].pos_at_R1 - this_l_df[this_l_df.made_cut].pos_at_R2)))\n",
    "    #print(f\"Mean abs pos change R1->R2 for top half = {mapc_r12[-1]:.1f}\")\n",
    "    mapc_r23.append(np.mean(abs(this_l_df[this_l_df.made_cut].pos_at_R2 - this_l_df[this_l_df.made_cut].pos_at_R3)))\n",
    "    #print(f\"Mean abs pos change R2->R3 for top half = {mapc_r23[-1]:.1f}\")\n",
    "    mapc_r34.append(np.mean(abs(this_l_df[this_l_df.made_cut].pos_at_R3 - this_l_df[this_l_df.made_cut].pos_at_R4)))\n",
    "    #print(f\"Mean abs pos change R3->R4 for top half = {mapc_r34[-1]:.1f}\")\n",
    "    \n",
    "#print(f\"\\nMean Kendall-Taus for R1->R2, R2->R3, R3->R4 for top half are {np.mean(kts_r12):.3f}, {np.mean(kts_r23):.03f}, {np.mean(kts_r34):.03f}\")\n",
    "print(f\"Mean abs pos changes for top half are {np.mean(mapc_r12):.1f}, {np.mean(mapc_r23):.1f}, {np.mean(mapc_r34):.1f}\")"
   ]
  },
  {
   "cell_type": "code",
   "execution_count": 40,
   "id": "ce904ac6-4a9e-4444-89ad-708b88888c03",
   "metadata": {},
   "outputs": [
    {
     "name": "stdout",
     "output_type": "stream",
     "text": [
      "Mean 10% score in R1 for top half = 68.2\n",
      "Mean 10% score in R2 for top half = 68.4\n",
      "Mean 10% score in R3 for top half = 68.8\n",
      "Mean 10% score in R4 for top half = 68.6\n"
     ]
    }
   ],
   "source": [
    "#Are low scores more likely in any round?\n",
    "#Selecting the top half like this will bias R1 and R2 towards low scores, because those players had to play quite well in R1,2 but not in R3,4\n",
    "#R3 and R4 look similar; if anything R4 is lower\n",
    "\n",
    "print(f\"Mean 10% score in R1 for top half = {np.mean([df[df.made_cut].R1.quantile(0.10) for df in theopen_leaderboards_dict.values()]):.1f}\")\n",
    "print(f\"Mean 10% score in R2 for top half = {np.mean([df[df.made_cut].R2.quantile(0.10) for df in theopen_leaderboards_dict.values()]):.1f}\")\n",
    "print(f\"Mean 10% score in R3 for top half = {np.mean([df[df.made_cut].R3.quantile(0.10) for df in theopen_leaderboards_dict.values()]):.1f}\")\n",
    "print(f\"Mean 10% score in R4 for top half = {np.mean([df[df.made_cut].R4.quantile(0.10) for df in theopen_leaderboards_dict.values()]):.1f}\")"
   ]
  },
  {
   "cell_type": "code",
   "execution_count": 41,
   "id": "64a633a6-0a5d-42e8-8be9-2623d270b5fc",
   "metadata": {},
   "outputs": [
    {
     "name": "stdout",
     "output_type": "stream",
     "text": [
      "Mean round score IQR in R1 for top half = 3.1\n",
      "Mean round score IQR in R2 for top half = 2.9\n",
      "Mean round score IQR in R3 for top half = 3.8\n",
      "Mean round score IQR in R4 for top half = 3.8\n"
     ]
    }
   ],
   "source": [
    "#Do scores become more stretched in R3?\n",
    "#Not sure if made cut gives any bias to R1,2 here.\n",
    "\n",
    "#IQR seems highest in R4, then R3 - more going for broke?\n",
    "\n",
    "print(f\"Mean round score IQR in R1 for top half = {np.mean([iqr(df[df.made_cut].R1) for df in theopen_leaderboards_dict.values()]):.1f}\")\n",
    "print(f\"Mean round score IQR in R2 for top half = {np.mean([iqr(df[df.made_cut].R2) for df in theopen_leaderboards_dict.values()]):.1f}\")\n",
    "print(f\"Mean round score IQR in R3 for top half = {np.mean([iqr(df[df.made_cut].R3) for df in theopen_leaderboards_dict.values()]):.1f}\")\n",
    "print(f\"Mean round score IQR in R4 for top half = {np.mean([iqr(df[df.made_cut].R4) for df in theopen_leaderboards_dict.values()]):.1f}\")"
   ]
  },
  {
   "cell_type": "code",
   "execution_count": 42,
   "id": "c06e5283-b5cd-4845-b927-e6c9304e31de",
   "metadata": {},
   "outputs": [
    {
     "name": "stdout",
     "output_type": "stream",
     "text": [
      "Mean round score IQR in R1 for top half = 3.1\n",
      "Mean round score IQR in R2 for top half = 3.6\n",
      "Mean round score IQR in R3 for top half = 5.2\n",
      "Mean round score IQR in R4 for top half = 6.8\n"
     ]
    }
   ],
   "source": [
    "#Do total scores become more stretched by R3?\n",
    "#Not sure if made cut gives any bias to R1,2 here.\n",
    "\n",
    "#Total score IQR increases by round, so it will be harder to move positions.\n",
    "\n",
    "print(f\"Mean round score IQR in R1 for top half = {np.mean([iqr(df[df.made_cut].total_at_R1) for df in theopen_leaderboards_dict.values()]):.1f}\")\n",
    "print(f\"Mean round score IQR in R2 for top half = {np.mean([iqr(df[df.made_cut].total_at_R2) for df in theopen_leaderboards_dict.values()]):.1f}\")\n",
    "print(f\"Mean round score IQR in R3 for top half = {np.mean([iqr(df[df.made_cut].total_at_R3) for df in theopen_leaderboards_dict.values()]):.1f}\")\n",
    "print(f\"Mean round score IQR in R4 for top half = {np.mean([iqr(df[df.made_cut].total_at_R4) for df in theopen_leaderboards_dict.values()]):.1f}\")"
   ]
  },
  {
   "cell_type": "markdown",
   "id": "c4d2f4d4-e68f-409f-8b95-aa6e2efebd93",
   "metadata": {},
   "source": [
    "Other ideas: \n",
    "- scores in R3, R4 reverting to mean; i.e. are those at bottom of top half likely to score better than their mean so far, moreso than leaders?"
   ]
  },
  {
   "cell_type": "markdown",
   "id": "43e42b0a-2df4-4f40-ab3b-febb757c125e",
   "metadata": {},
   "source": [
    "Plots to do:\n",
    "\n",
    "- 3 round changes, boxplot etc of mean abs pos change for tournament, colour/facet by major\n",
    "- 3 round changes, boxplot etc of K-T for rankings, colour/facet by major\n",
    "- something to show total and/or round scores IQRs in each round\n",
    "- boxplot of round scores"
   ]
  },
  {
   "cell_type": "markdown",
   "id": "53bf1f6f-257b-4b41-8e61-de22f741814e",
   "metadata": {},
   "source": [
    "## US Masters\n",
    "\n",
    "Historic leaderboards only include those that made the cut."
   ]
  },
  {
   "cell_type": "code",
   "execution_count": 5,
   "id": "76e4c51c-14ae-4882-b5ae-b2dee828b95d",
   "metadata": {},
   "outputs": [],
   "source": [
    "# response = br.open('https://www.augusta.com/masters/historic/leaderboards/2010')\n",
    "# #response = br.open('https://www.augusta.com/masters/leaderboard')\n",
    "# pagetext = response.readlines()\n",
    "# pagetext = [b.decode() for b in pagetext]\n",
    "# pagetext = [l.strip() for l in pagetext]"
   ]
  },
  {
   "cell_type": "code",
   "execution_count": 117,
   "id": "60909b4a-ad5f-4289-bd5b-6a12c2c5ebea",
   "metadata": {},
   "outputs": [
    {
     "name": "stdout",
     "output_type": "stream",
     "text": [
      "1990\n",
      "1991\n",
      "1992\n",
      "1993\n",
      "1994\n",
      "1995\n",
      "1996\n",
      "1997\n",
      "1998\n",
      "1999\n",
      "2000\n",
      "2001\n",
      "2002\n",
      "2003\n",
      "2004\n",
      "2005\n",
      "2006\n",
      "2007\n",
      "2008\n",
      "2009\n",
      "2010\n",
      "2011\n",
      "2012\n",
      "2013\n",
      "2014\n",
      "2015\n",
      "2016\n",
      "2017\n",
      "2018\n",
      "2019\n",
      "2020\n"
     ]
    }
   ],
   "source": [
    "masters_leaderboards_dict = {}\n",
    "\n",
    "for year in range(1990,2021):\n",
    "    print(year)\n",
    "    response = br.open('https://www.augusta.com/masters/historic/leaderboards/'+str(year))\n",
    "    pagetext = response.readlines()\n",
    "    pagetext = [b.decode() for b in pagetext]\n",
    "    pagetext = [l.strip() for l in pagetext]\n",
    "\n",
    "    lboard_started = False\n",
    "    leaderboard = []\n",
    "    for i,row in enumerate(pagetext):\n",
    "        if 'id=\"LargeLeaderboard\"' in row:\n",
    "            #print(row)\n",
    "            lboard_started = True\n",
    "        if lboard_started:\n",
    "            if '<tr' in row:\n",
    "                scores = [l for l in pagetext[i+12:i+25] if re.match('\\d{2}', l) and len(l) <= 4]\n",
    "                if len(scores) == 4:\n",
    "                    leaderboard.append({'player': pagetext[i+6], 'R1': int(scores[0]), 'R2': int(scores[1]), 'R3': int(scores[2]), 'R4': int(scores[3])})\n",
    "\n",
    "    leaderboard_df = pd.DataFrame(leaderboard)\n",
    "    leaderboard_df['made_cut'] = True\n",
    "    leaderboard_df['total_at_R1'] = leaderboard_df['R1']\n",
    "    leaderboard_df['total_at_R2'] = leaderboard_df['R1'] + leaderboard_df['R2']\n",
    "    leaderboard_df['total_at_R3'] = leaderboard_df['total_at_R2'] + leaderboard_df['R3']\n",
    "    leaderboard_df['total_at_R4'] = leaderboard_df['total_at_R3'] + leaderboard_df['R4']\n",
    "    leaderboard_df['pos_at_R1'] = leaderboard_df.apply(lambda row: sum(leaderboard_df.total_at_R1 < row['total_at_R1']) + 1, axis=1)\n",
    "    leaderboard_df['pos_at_R2'] = leaderboard_df.apply(lambda row: sum(leaderboard_df.total_at_R2 < row['total_at_R2']) + 1, axis=1)\n",
    "    leaderboard_df['pos_at_R3'] = leaderboard_df.apply(lambda row: sum(leaderboard_df.total_at_R3 < row['total_at_R3']) + 1, axis=1)\n",
    "    leaderboard_df['pos_at_R4'] = leaderboard_df.apply(lambda row: sum(leaderboard_df.total_at_R4 < row['total_at_R4']) + 1, axis=1)\n",
    "\n",
    "    masters_leaderboards_dict[year] = leaderboard_df\n"
   ]
  },
  {
   "cell_type": "code",
   "execution_count": 118,
   "id": "e481873b-b90a-49c4-9258-cd53a112a084",
   "metadata": {},
   "outputs": [],
   "source": [
    "#Add 2021; this also only gets those making the cut\n",
    "\n",
    "response = br.open('https://www.augusta.com/masters/leaderboard')\n",
    "pagetext = response.readlines()\n",
    "pagetext = [b.decode() for b in pagetext]\n",
    "pagetext = [l.strip() for l in pagetext]\n",
    "\n",
    "lboard_started = False\n",
    "leaderboard = []\n",
    "for i,row in enumerate(pagetext):\n",
    "    if 'id=\"LargeLeaderboard\"' in row:\n",
    "        lboard_started = True\n",
    "    if lboard_started:\n",
    "        if re.match('<td>[T\\d]*</td>', row):\n",
    "            player_name = re.search('(.*) <', pagetext[i+4]).groups()[0]\n",
    "            scores = [l for l in pagetext[i+4:i+15] if re.search('RoundData\">\\d{2}<', l)]\n",
    "            scores = [re.search('RoundData\">(\\d{2})<', l).groups()[0] for l in scores]\n",
    "            if len(scores) == 4:\n",
    "                leaderboard.append({'player': player_name, 'R1': int(scores[0]), 'R2': int(scores[1]), 'R3': int(scores[2]), 'R4': int(scores[3])})\n",
    "\n",
    "leaderboard_df = pd.DataFrame(leaderboard)\n",
    "leaderboard_df['made_cut'] = True\n",
    "leaderboard_df['total_at_R1'] = leaderboard_df['R1']\n",
    "leaderboard_df['total_at_R2'] = leaderboard_df['R1'] + leaderboard_df['R2']\n",
    "leaderboard_df['total_at_R3'] = leaderboard_df['total_at_R2'] + leaderboard_df['R3']\n",
    "leaderboard_df['total_at_R4'] = leaderboard_df['total_at_R3'] + leaderboard_df['R4']\n",
    "leaderboard_df['pos_at_R1'] = leaderboard_df.apply(lambda row: sum(leaderboard_df.total_at_R1 < row['total_at_R1']) + 1, axis=1)\n",
    "leaderboard_df['pos_at_R2'] = leaderboard_df.apply(lambda row: sum(leaderboard_df.total_at_R2 < row['total_at_R2']) + 1, axis=1)\n",
    "leaderboard_df['pos_at_R3'] = leaderboard_df.apply(lambda row: sum(leaderboard_df.total_at_R3 < row['total_at_R3']) + 1, axis=1)\n",
    "leaderboard_df['pos_at_R4'] = leaderboard_df.apply(lambda row: sum(leaderboard_df.total_at_R4 < row['total_at_R4']) + 1, axis=1)\n",
    "\n",
    "masters_leaderboards_dict[2021] = leaderboard_df\n"
   ]
  },
  {
   "cell_type": "code",
   "execution_count": null,
   "id": "60c309c3-6622-4f1d-a8c8-382d6dfc7821",
   "metadata": {},
   "outputs": [],
   "source": [
    "mapc_r12, mapc_r23, mapc_r34 = [], [], []\n",
    "\n",
    "for year, this_l_df in masters_leaderboards_dict.items():\n",
    "    #print('\\n'+str(year)+'\\n')\n",
    "    \n",
    "    #Compare two ordered lists\n",
    "    order_at_R1 = this_l_df.sort_values('total_at_R1').player.tolist()\n",
    "    order_at_R2 = this_l_df.sort_values('total_at_R2').player.tolist()\n",
    "    order_at_R1_tophalf = this_l_df[this_l_df.made_cut].sort_values('total_at_R1').player.tolist()\n",
    "    order_at_R2_tophalf = this_l_df[this_l_df.made_cut].sort_values('total_at_R2').player.tolist()\n",
    "    order_at_R3_tophalf = this_l_df[this_l_df.made_cut].sort_values('total_at_R3').player.tolist()\n",
    "    order_at_R4_tophalf = this_l_df[this_l_df.made_cut].sort_values('total_at_R4').player.tolist()\n",
    "    #print(f\"{len(order_at_R1)} in R1 list, {len(order_at_R2)} in R2 list, {len(order_at_R2_tophalf)} in R2 cut only list, {len(order_at_R3_tophalf)} in R3 list, {len(order_at_R4_tophalf)} in R4 list\")\n",
    "    \n",
    "    mapc_r12.append(np.mean(abs(this_l_df[this_l_df.made_cut].pos_at_R1 - this_l_df[this_l_df.made_cut].pos_at_R2)))\n",
    "    #print(f\"Mean abs pos change R1->R2 for top half = {mapc_r12[-1]:.1f}\")\n",
    "    mapc_r23.append(np.mean(abs(this_l_df[this_l_df.made_cut].pos_at_R2 - this_l_df[this_l_df.made_cut].pos_at_R3)))\n",
    "    #print(f\"Mean abs pos change R2->R3 for top half = {mapc_r23[-1]:.1f}\")\n",
    "    mapc_r34.append(np.mean(abs(this_l_df[this_l_df.made_cut].pos_at_R3 - this_l_df[this_l_df.made_cut].pos_at_R4)))\n",
    "    #print(f\"Mean abs pos change R3->R4 for top half = {mapc_r34[-1]:.1f}\")\n",
    "    \n",
    "print(f\"Mean abs pos changes for top half are {np.mean(mapc_r12):.1f}, {np.mean(mapc_r23):.1f}, {np.mean(mapc_r34):.1f}\")\n"
   ]
  },
  {
   "cell_type": "code",
   "execution_count": 147,
   "id": "80a7ef65-8213-4680-9725-6c36d384c2b7",
   "metadata": {},
   "outputs": [
    {
     "name": "stdout",
     "output_type": "stream",
     "text": [
      "Mean 10% score in R1 for top half = 69.2\n",
      "Mean 10% score in R2 for top half = 68.8\n",
      "Mean 10% score in R3 for top half = 69.3\n",
      "Mean 10% score in R4 for top half = 69.0\n"
     ]
    }
   ],
   "source": [
    "#Round scores are basically the same\n",
    "\n",
    "print(f\"Mean 10% score in R1 for top half = {np.mean([df[df.made_cut].R1.quantile(0.10) for df in masters_leaderboards_dict.values()]):.1f}\")\n",
    "print(f\"Mean 10% score in R2 for top half = {np.mean([df[df.made_cut].R2.quantile(0.10) for df in masters_leaderboards_dict.values()]):.1f}\")\n",
    "print(f\"Mean 10% score in R3 for top half = {np.mean([df[df.made_cut].R3.quantile(0.10) for df in masters_leaderboards_dict.values()]):.1f}\")\n",
    "print(f\"Mean 10% score in R4 for top half = {np.mean([df[df.made_cut].R4.quantile(0.10) for df in masters_leaderboards_dict.values()]):.1f}\")"
   ]
  },
  {
   "cell_type": "code",
   "execution_count": 120,
   "id": "cc0cee0e-d8d2-4e9a-a989-7955c1ff1a0d",
   "metadata": {},
   "outputs": [
    {
     "name": "stdout",
     "output_type": "stream",
     "text": [
      "Mean round score IQR in R1 for top half = 3.2\n",
      "Mean round score IQR in R2 for top half = 3.2\n",
      "Mean round score IQR in R3 for top half = 3.7\n",
      "Mean round score IQR in R4 for top half = 4.0\n"
     ]
    }
   ],
   "source": [
    "#As in Open, IQR seems highest in R4, then R3 - more going for broke?\n",
    "\n",
    "print(f\"Mean round score IQR in R1 for top half = {np.mean([iqr(df[df.made_cut].R1) for df in masters_leaderboards_dict.values()]):.1f}\")\n",
    "print(f\"Mean round score IQR in R2 for top half = {np.mean([iqr(df[df.made_cut].R2) for df in masters_leaderboards_dict.values()]):.1f}\")\n",
    "print(f\"Mean round score IQR in R3 for top half = {np.mean([iqr(df[df.made_cut].R3) for df in masters_leaderboards_dict.values()]):.1f}\")\n",
    "print(f\"Mean round score IQR in R4 for top half = {np.mean([iqr(df[df.made_cut].R4) for df in masters_leaderboards_dict.values()]):.1f}\")"
   ]
  },
  {
   "cell_type": "code",
   "execution_count": 121,
   "id": "20d99f94-e02f-41b4-bd16-05efe3c35ff7",
   "metadata": {},
   "outputs": [
    {
     "name": "stdout",
     "output_type": "stream",
     "text": [
      "Mean round score IQR in R1 for top half = 3.2\n",
      "Mean round score IQR in R2 for top half = 4.0\n",
      "Mean round score IQR in R3 for top half = 5.5\n",
      "Mean round score IQR in R4 for top half = 7.3\n"
     ]
    }
   ],
   "source": [
    "#As in Open, total score IQR increases by round, so it will be harder to move positions.\n",
    "\n",
    "print(f\"Mean round score IQR in R1 for top half = {np.mean([iqr(df[df.made_cut].total_at_R1) for df in masters_leaderboards_dict.values()]):.1f}\")\n",
    "print(f\"Mean round score IQR in R2 for top half = {np.mean([iqr(df[df.made_cut].total_at_R2) for df in masters_leaderboards_dict.values()]):.1f}\")\n",
    "print(f\"Mean round score IQR in R3 for top half = {np.mean([iqr(df[df.made_cut].total_at_R3) for df in masters_leaderboards_dict.values()]):.1f}\")\n",
    "print(f\"Mean round score IQR in R4 for top half = {np.mean([iqr(df[df.made_cut].total_at_R4) for df in masters_leaderboards_dict.values()]):.1f}\")"
   ]
  },
  {
   "cell_type": "markdown",
   "id": "3bcdf60e-4f1c-460d-b641-33efea791609",
   "metadata": {},
   "source": [
    "## US Open\n",
    "\n",
    "Use selenium for europeantour.com (slower); tables are blank before 1999."
   ]
  },
  {
   "cell_type": "code",
   "execution_count": 122,
   "id": "c83a9547-f93c-484b-8e6a-76b343e1cf90",
   "metadata": {},
   "outputs": [
    {
     "name": "stdout",
     "output_type": "stream",
     "text": [
      "1999 155\n",
      "2000 156\n",
      "2001 155\n",
      "2002 155\n",
      "2003 155\n",
      "2004 169\n",
      "2005 209\n",
      "2006 202\n",
      "2007 207\n",
      "2008 155\n",
      "2009 238\n",
      "2010 227\n",
      "2011 228\n",
      "2012 231\n",
      "2013 257\n",
      "2014 156\n",
      "2015 156\n",
      "2016 156\n",
      "2017 156\n",
      "2018 156\n",
      "2019 156\n",
      "2020 144\n",
      "2021 155\n"
     ]
    }
   ],
   "source": [
    "usopen_leaderboards_dict = {}\n",
    "\n",
    "for year in range(1999,2022):\n",
    "    if year == 2020:\n",
    "        driver.get(f'https://www.europeantour.com/european-tour/us-open-{year}/leaderboard')\n",
    "    else:\n",
    "        driver.get(f'https://www.europeantour.com/european-tour/u-s-open-{year}/leaderboard')\n",
    "    time.sleep(2)\n",
    "    lboard_rows = driver.find_elements_by_class_name('table-responsive')[0].find_elements_by_class_name('leaderboard__row')\n",
    "    print(year, len(lboard_rows))\n",
    "\n",
    "    leaderboard = []\n",
    "    for row in lboard_rows:\n",
    "        #print(row.find_elements_by_class_name('table__cell--name-col.text--left')[0].text)\n",
    "        #print([row.find_elements_by_class_name('table__cell--grey.table__cell--round-strokes.table__cell--round-'+str(r))[0].text for r in [1,2,3,4]])\n",
    "\n",
    "        player_name = row.find_elements_by_class_name('table__cell--name-col.text--left')[0].text\n",
    "        player_name = player_name.split('\\n')[0] #some have a logo after the name\n",
    "        round_scores = [row.find_elements_by_class_name('table__cell--grey.table__cell--round-strokes.table__cell--round-'+str(r))[0].text for r in [1,2,3,4]]\n",
    "        leaderboard.append({'player': player_name, \n",
    "                            'R1': None if round_scores[0]=='-' else int(round_scores[0]), \n",
    "                            'R2': None if round_scores[1]=='-' else int(round_scores[1]), \n",
    "                            'R3': None if round_scores[2]=='-' else int(round_scores[2]), \n",
    "                            'R4': None if round_scores[3]=='-' else int(round_scores[3])})\n",
    "\n",
    "    leaderboard_df = pd.DataFrame(leaderboard)\n",
    "    leaderboard_df['made_cut'] = ~leaderboard_df.R3.isnull()\n",
    "    leaderboard_df['total_at_R1'] = leaderboard_df['R1']\n",
    "    leaderboard_df['total_at_R2'] = leaderboard_df['R1'] + leaderboard_df['R2']\n",
    "    leaderboard_df['total_at_R3'] = leaderboard_df['total_at_R2'] + leaderboard_df['R3']\n",
    "    leaderboard_df['total_at_R4'] = leaderboard_df['total_at_R3'] + leaderboard_df['R4']\n",
    "    leaderboard_df['pos_at_R1'] = leaderboard_df.apply(lambda row: sum(leaderboard_df.total_at_R1 < row['total_at_R1']) + 1, axis=1)\n",
    "    leaderboard_df['pos_at_R2'] = leaderboard_df.apply(lambda row: sum(leaderboard_df.total_at_R2 < row['total_at_R2']) + 1, axis=1)\n",
    "    leaderboard_df['pos_at_R3'] = leaderboard_df.apply(lambda row: sum(leaderboard_df.total_at_R3 < row['total_at_R3']) + 1, axis=1)\n",
    "    leaderboard_df['pos_at_R4'] = leaderboard_df.apply(lambda row: sum(leaderboard_df.total_at_R4 < row['total_at_R4']) + 1, axis=1)\n",
    "\n",
    "    usopen_leaderboards_dict[year] = leaderboard_df"
   ]
  },
  {
   "cell_type": "code",
   "execution_count": null,
   "id": "9cb133fa-410b-4398-81f3-0338d7ce9807",
   "metadata": {},
   "outputs": [],
   "source": [
    "mapc_r12, mapc_r23, mapc_r34 = [], [], []\n",
    "\n",
    "for year, this_l_df in usopen_leaderboards_dict.items():\n",
    "    order_at_R1 = this_l_df.sort_values('total_at_R1').player.tolist()\n",
    "    order_at_R2 = this_l_df.sort_values('total_at_R2').player.tolist()\n",
    "    order_at_R1_tophalf = this_l_df[this_l_df.made_cut].sort_values('total_at_R1').player.tolist()\n",
    "    order_at_R2_tophalf = this_l_df[this_l_df.made_cut].sort_values('total_at_R2').player.tolist()\n",
    "    order_at_R3_tophalf = this_l_df[this_l_df.made_cut].sort_values('total_at_R3').player.tolist()\n",
    "    order_at_R4_tophalf = this_l_df[this_l_df.made_cut].sort_values('total_at_R4').player.tolist()\n",
    "        \n",
    "    mapc_r12.append(np.mean(abs(this_l_df[this_l_df.made_cut].pos_at_R1 - this_l_df[this_l_df.made_cut].pos_at_R2)))\n",
    "    mapc_r23.append(np.mean(abs(this_l_df[this_l_df.made_cut].pos_at_R2 - this_l_df[this_l_df.made_cut].pos_at_R3)))\n",
    "    mapc_r34.append(np.mean(abs(this_l_df[this_l_df.made_cut].pos_at_R3 - this_l_df[this_l_df.made_cut].pos_at_R4)))\n",
    "    \n",
    "print(f\"Mean abs pos changes for top half are {np.mean(mapc_r12):.1f}, {np.mean(mapc_r23):.1f}, {np.mean(mapc_r34):.1f}\")\n"
   ]
  },
  {
   "cell_type": "code",
   "execution_count": 148,
   "id": "68beca35-9ce8-465d-bd27-28c8d70ade2a",
   "metadata": {},
   "outputs": [
    {
     "name": "stdout",
     "output_type": "stream",
     "text": [
      "Mean 10% score in R1 for top half = 69.2\n",
      "Mean 10% score in R2 for top half = 69.0\n",
      "Mean 10% score in R3 for top half = 69.7\n",
      "Mean 10% score in R4 for top half = 69.9\n"
     ]
    }
   ],
   "source": [
    "#Round scores are slightly worse in R3-4\n",
    "\n",
    "print(f\"Mean 10% score in R1 for top half = {np.mean([df[df.made_cut].R1.quantile(0.10) for df in usopen_leaderboards_dict.values()]):.1f}\")\n",
    "print(f\"Mean 10% score in R2 for top half = {np.mean([df[df.made_cut].R2.quantile(0.10) for df in usopen_leaderboards_dict.values()]):.1f}\")\n",
    "print(f\"Mean 10% score in R3 for top half = {np.mean([df[df.made_cut].R3.quantile(0.10) for df in usopen_leaderboards_dict.values()]):.1f}\")\n",
    "print(f\"Mean 10% score in R4 for top half = {np.mean([df[df.made_cut].R4.quantile(0.10) for df in usopen_leaderboards_dict.values()]):.1f}\")"
   ]
  },
  {
   "cell_type": "code",
   "execution_count": 127,
   "id": "484c4a4b-2208-43d7-9470-d6372d29964b",
   "metadata": {},
   "outputs": [
    {
     "name": "stdout",
     "output_type": "stream",
     "text": [
      "Mean round score IQR in R1 for top half = 3.1\n",
      "Mean round score IQR in R2 for top half = 3.1\n",
      "Mean round score IQR in R3 for top half = 4.0\n",
      "Mean round score IQR in R4 for top half = 4.0\n"
     ]
    }
   ],
   "source": [
    "#As previous, IQR seems highest in R4, then R3 - more going for broke?\n",
    "\n",
    "print(f\"Mean round score IQR in R1 for top half = {np.mean([iqr(df[df.made_cut].R1) for df in usopen_leaderboards_dict.values()]):.1f}\")\n",
    "print(f\"Mean round score IQR in R2 for top half = {np.mean([iqr(df[df.made_cut].R2) for df in usopen_leaderboards_dict.values()]):.1f}\")\n",
    "print(f\"Mean round score IQR in R3 for top half = {np.mean([iqr(df[df.made_cut].R3) for df in usopen_leaderboards_dict.values()]):.1f}\")\n",
    "print(f\"Mean round score IQR in R4 for top half = {np.nanmean([iqr(df[df.made_cut].R4) for df in usopen_leaderboards_dict.values()]):.1f}\")"
   ]
  },
  {
   "cell_type": "code",
   "execution_count": 126,
   "id": "8e3b7274-9a8d-4bd1-a8dd-f616cab5cc0d",
   "metadata": {},
   "outputs": [
    {
     "name": "stdout",
     "output_type": "stream",
     "text": [
      "Mean round score IQR in R1 for top half = 3.1\n",
      "Mean round score IQR in R2 for top half = 3.7\n",
      "Mean round score IQR in R3 for top half = 5.5\n",
      "Mean round score IQR in R4 for top half = 7.1\n"
     ]
    }
   ],
   "source": [
    "#As previous, total score IQR increases by round, so it will be harder to move positions.\n",
    "\n",
    "print(f\"Mean round score IQR in R1 for top half = {np.mean([iqr(df[df.made_cut].total_at_R1) for df in usopen_leaderboards_dict.values()]):.1f}\")\n",
    "print(f\"Mean round score IQR in R2 for top half = {np.mean([iqr(df[df.made_cut].total_at_R2) for df in usopen_leaderboards_dict.values()]):.1f}\")\n",
    "print(f\"Mean round score IQR in R3 for top half = {np.mean([iqr(df[df.made_cut].total_at_R3) for df in usopen_leaderboards_dict.values()]):.1f}\")\n",
    "print(f\"Mean round score IQR in R4 for top half = {np.nanmean([iqr(df[df.made_cut].total_at_R4) for df in usopen_leaderboards_dict.values()]):.1f}\")"
   ]
  },
  {
   "cell_type": "markdown",
   "id": "3cfa5562-e844-4438-921f-6999eb8d410e",
   "metadata": {},
   "source": [
    "## US PGA\n",
    "\n",
    "As previous."
   ]
  },
  {
   "cell_type": "code",
   "execution_count": 154,
   "id": "5ac22027-fd69-4a71-9849-9757270c6a15",
   "metadata": {},
   "outputs": [
    {
     "name": "stdout",
     "output_type": "stream",
     "text": [
      "1999 149\n",
      "149\n",
      "2000 150\n",
      "150\n",
      "2001 150\n",
      "150\n",
      "2002 155\n",
      "155\n",
      "2003 155\n",
      "155\n",
      "2004 156\n",
      "156\n",
      "2005 156\n",
      "156\n",
      "2006 156\n",
      "156\n",
      "2007 156\n",
      "156\n",
      "2008 156\n",
      "156\n",
      "2009 156\n",
      "156\n",
      "2010 156\n",
      "156\n",
      "2011 156\n",
      "156\n",
      "2012 156\n",
      "156\n",
      "2013 156\n",
      "156\n",
      "2014 156\n",
      "156\n",
      "2015 156\n",
      "156\n",
      "2016 156\n",
      "156\n",
      "2017 156\n",
      "156\n",
      "2018 156\n",
      "156\n",
      "2019 156\n",
      "156\n",
      "2020 156\n",
      "156\n",
      "2021 156\n",
      "156\n"
     ]
    }
   ],
   "source": [
    "uspga_leaderboards_dict = {}\n",
    "\n",
    "for year in range(1999,2022):\n",
    "    if year == 2021:\n",
    "        driver.get(f'https://www.europeantour.com/european-tour/u-s-pga-championship-{year}/leaderboard')\n",
    "    else:\n",
    "        driver.get(f'https://www.europeantour.com/european-tour/us-pga-championship-{year}/leaderboard')\n",
    "    time.sleep(2)\n",
    "    lboard_rows = driver.find_elements_by_class_name('table-responsive')[0].find_elements_by_class_name('leaderboard__row')\n",
    "\n",
    "    leaderboard = []\n",
    "    for row in lboard_rows:\n",
    "        player_name = row.find_elements_by_class_name('table__cell--name-col.text--left')[0].text\n",
    "        player_name = player_name.split('\\n')[0] #some have a logo after the name\n",
    "        round_scores = [row.find_elements_by_class_name('table__cell--grey.table__cell--round-strokes.table__cell--round-'+str(r))[0].text for r in [1,2,3,4]]\n",
    "        leaderboard.append({'player': player_name, \n",
    "                            'R1': None if round_scores[0]=='-' else int(round_scores[0]), \n",
    "                            'R2': None if round_scores[1]=='-' else int(round_scores[1]), \n",
    "                            'R3': None if round_scores[2]=='-' else int(round_scores[2]), \n",
    "                            'R4': None if round_scores[3]=='-' else int(round_scores[3])})\n",
    "    print(year, len(lboard_rows), len(leaderboard))\n",
    "\n",
    "    leaderboard_df = pd.DataFrame(leaderboard)\n",
    "    leaderboard_df['made_cut'] = ~leaderboard_df.R3.isnull()\n",
    "    leaderboard_df['total_at_R1'] = leaderboard_df['R1']\n",
    "    leaderboard_df['total_at_R2'] = leaderboard_df['R1'] + leaderboard_df['R2']\n",
    "    leaderboard_df['total_at_R3'] = leaderboard_df['total_at_R2'] + leaderboard_df['R3']\n",
    "    leaderboard_df['total_at_R4'] = leaderboard_df['total_at_R3'] + leaderboard_df['R4']\n",
    "    leaderboard_df['pos_at_R1'] = leaderboard_df.apply(lambda row: sum(leaderboard_df.total_at_R1 < row['total_at_R1']) + 1, axis=1)\n",
    "    leaderboard_df['pos_at_R2'] = leaderboard_df.apply(lambda row: sum(leaderboard_df.total_at_R2 < row['total_at_R2']) + 1, axis=1)\n",
    "    leaderboard_df['pos_at_R3'] = leaderboard_df.apply(lambda row: sum(leaderboard_df.total_at_R3 < row['total_at_R3']) + 1, axis=1)\n",
    "    leaderboard_df['pos_at_R4'] = leaderboard_df.apply(lambda row: sum(leaderboard_df.total_at_R4 < row['total_at_R4']) + 1, axis=1)\n",
    "\n",
    "    uspga_leaderboards_dict[year] = leaderboard_df"
   ]
  },
  {
   "cell_type": "code",
   "execution_count": null,
   "id": "70f96b0f-fb67-470a-89f2-56ac522e6037",
   "metadata": {},
   "outputs": [],
   "source": [
    "mapc_r12, mapc_r23, mapc_r34 = [], [], []\n",
    "\n",
    "for year, this_l_df in uspga_leaderboards_dict.items():\n",
    "    order_at_R1 = this_l_df.sort_values('total_at_R1').player.tolist()\n",
    "    order_at_R2 = this_l_df.sort_values('total_at_R2').player.tolist()\n",
    "    order_at_R1_tophalf = this_l_df[this_l_df.made_cut].sort_values('total_at_R1').player.tolist()\n",
    "    order_at_R2_tophalf = this_l_df[this_l_df.made_cut].sort_values('total_at_R2').player.tolist()\n",
    "    order_at_R3_tophalf = this_l_df[this_l_df.made_cut].sort_values('total_at_R3').player.tolist()\n",
    "    order_at_R4_tophalf = this_l_df[this_l_df.made_cut].sort_values('total_at_R4').player.tolist()\n",
    "        \n",
    "    mapc_r12.append(np.mean(abs(this_l_df[this_l_df.made_cut].pos_at_R1 - this_l_df[this_l_df.made_cut].pos_at_R2)))\n",
    "    mapc_r23.append(np.mean(abs(this_l_df[this_l_df.made_cut].pos_at_R2 - this_l_df[this_l_df.made_cut].pos_at_R3)))\n",
    "    mapc_r34.append(np.mean(abs(this_l_df[this_l_df.made_cut].pos_at_R3 - this_l_df[this_l_df.made_cut].pos_at_R4)))\n",
    "    \n",
    "print(f\"Mean abs pos changes for top half are {np.mean(mapc_r12):.1f}, {np.mean(mapc_r23):.1f}, {np.mean(mapc_r34):.1f}\")\n"
   ]
  },
  {
   "cell_type": "code",
   "execution_count": 156,
   "id": "9dd48e30-02e1-49c3-84bf-b1296594c391",
   "metadata": {},
   "outputs": [
    {
     "name": "stdout",
     "output_type": "stream",
     "text": [
      "Mean 10% score in R1 for top half = 68.4\n",
      "Mean 10% score in R2 for top half = 68.3\n",
      "Mean 10% score in R3 for top half = 68.4\n",
      "Mean 10% score in R4 for top half = 68.4\n"
     ]
    }
   ],
   "source": [
    "#Round scores are nearly identical\n",
    "\n",
    "print(f\"Mean 10% score in R1 for top half = {np.mean([df[df.made_cut].R1.quantile(0.10) for df in uspga_leaderboards_dict.values()]):.1f}\")\n",
    "print(f\"Mean 10% score in R2 for top half = {np.mean([df[df.made_cut].R2.quantile(0.10) for df in uspga_leaderboards_dict.values()]):.1f}\")\n",
    "print(f\"Mean 10% score in R3 for top half = {np.mean([df[df.made_cut].R3.quantile(0.10) for df in uspga_leaderboards_dict.values()]):.1f}\")\n",
    "print(f\"Mean 10% score in R4 for top half = {np.mean([df[df.made_cut].R4.quantile(0.10) for df in uspga_leaderboards_dict.values()]):.1f}\")"
   ]
  },
  {
   "cell_type": "code",
   "execution_count": 157,
   "id": "2c50c6ab-65c8-4741-bf0e-0e9c2a96c0b5",
   "metadata": {},
   "outputs": [
    {
     "name": "stdout",
     "output_type": "stream",
     "text": [
      "Mean round score IQR in R1 for top half = 3.0\n",
      "Mean round score IQR in R2 for top half = 3.0\n",
      "Mean round score IQR in R3 for top half = 3.8\n",
      "Mean round score IQR in R4 for top half = 3.8\n"
     ]
    }
   ],
   "source": [
    "#As previous, IQR seems highest in R4, R3 - more going for broke?\n",
    "\n",
    "print(f\"Mean round score IQR in R1 for top half = {np.mean([iqr(df[df.made_cut].R1) for df in uspga_leaderboards_dict.values()]):.1f}\")\n",
    "print(f\"Mean round score IQR in R2 for top half = {np.mean([iqr(df[df.made_cut].R2) for df in uspga_leaderboards_dict.values()]):.1f}\")\n",
    "print(f\"Mean round score IQR in R3 for top half = {np.mean([iqr(df[df.made_cut].R3) for df in uspga_leaderboards_dict.values()]):.1f}\")\n",
    "print(f\"Mean round score IQR in R4 for top half = {np.nanmean([iqr(df[df.made_cut].R4) for df in uspga_leaderboards_dict.values()]):.1f}\")"
   ]
  },
  {
   "cell_type": "code",
   "execution_count": 158,
   "id": "f50dccfd-5abf-42b0-9479-7434aefa7fee",
   "metadata": {},
   "outputs": [
    {
     "name": "stdout",
     "output_type": "stream",
     "text": [
      "Mean round score IQR in R1 for top half = 3.0\n",
      "Mean round score IQR in R2 for top half = 3.5\n",
      "Mean round score IQR in R3 for top half = 5.2\n",
      "Mean round score IQR in R4 for top half = 7.2\n"
     ]
    }
   ],
   "source": [
    "#As previous, total score IQR increases by round, so it will be harder to move positions.\n",
    "\n",
    "print(f\"Mean round score IQR in R1 for top half = {np.mean([iqr(df[df.made_cut].total_at_R1) for df in uspga_leaderboards_dict.values()]):.1f}\")\n",
    "print(f\"Mean round score IQR in R2 for top half = {np.mean([iqr(df[df.made_cut].total_at_R2) for df in uspga_leaderboards_dict.values()]):.1f}\")\n",
    "print(f\"Mean round score IQR in R3 for top half = {np.mean([iqr(df[df.made_cut].total_at_R3) for df in uspga_leaderboards_dict.values()]):.1f}\")\n",
    "print(f\"Mean round score IQR in R4 for top half = {np.nanmean([iqr(df[df.made_cut].total_at_R4) for df in uspga_leaderboards_dict.values()]):.1f}\")"
   ]
  },
  {
   "cell_type": "markdown",
   "id": "2a52a5aa-e388-491c-962c-0ecc5554099b",
   "metadata": {},
   "source": [
    "## Save everything to a file"
   ]
  },
  {
   "cell_type": "code",
   "execution_count": 159,
   "id": "632e148c-4dca-4151-93d3-66b651908e5c",
   "metadata": {},
   "outputs": [],
   "source": [
    "out_dfs = []\n",
    "for year, tmp in theopen_leaderboards_dict.items():\n",
    "    tmp['year'] = year\n",
    "    tmp['comp'] = 'theopen'\n",
    "    out_dfs.append(tmp)"
   ]
  },
  {
   "cell_type": "code",
   "execution_count": 160,
   "id": "c13e0548-af23-4b2e-8164-0bbbe4e5b6dc",
   "metadata": {},
   "outputs": [],
   "source": [
    "for year, tmp in masters_leaderboards_dict.items():\n",
    "    tmp['year'] = year\n",
    "    tmp['comp'] = 'masters'\n",
    "    out_dfs.append(tmp)"
   ]
  },
  {
   "cell_type": "code",
   "execution_count": 162,
   "id": "d12c8ec9-47f7-4226-a802-8520c487e354",
   "metadata": {},
   "outputs": [],
   "source": [
    "for year, tmp in uspga_leaderboards_dict.items():\n",
    "    tmp['year'] = year\n",
    "    tmp['comp'] = 'uspga'\n",
    "    out_dfs.append(tmp)"
   ]
  },
  {
   "cell_type": "code",
   "execution_count": 163,
   "id": "ad328ab6-baee-4689-a719-bc4a90f3742b",
   "metadata": {},
   "outputs": [],
   "source": [
    "for year, tmp in usopen_leaderboards_dict.items():\n",
    "    tmp['year'] = year\n",
    "    tmp['comp'] = 'usopen'\n",
    "    out_dfs.append(tmp)"
   ]
  },
  {
   "cell_type": "code",
   "execution_count": 171,
   "id": "881b4ae6-afe2-4b39-a651-3d6a36c4caa9",
   "metadata": {},
   "outputs": [
    {
     "data": {
      "text/plain": [
       "usopen     4134\n",
       "uspga      3567\n",
       "theopen    3382\n",
       "masters    1682\n",
       "Name: comp, dtype: int64"
      ]
     },
     "execution_count": 171,
     "metadata": {},
     "output_type": "execute_result"
    }
   ],
   "source": [
    "pd.concat(out_dfs).comp.value_counts()\n",
    "#masters only shows making cut"
   ]
  },
  {
   "cell_type": "code",
   "execution_count": null,
   "id": "fd8a2b1f-5bff-4664-ba07-517545c416f4",
   "metadata": {},
   "outputs": [],
   "source": [
    "pd.concat(out_dfs).to_csv('golf_majors_round_data_1990_2021.csv', index=False)"
   ]
  },
  {
   "cell_type": "markdown",
   "id": "3b05820f-c034-4425-a196-4ca1d094cf03",
   "metadata": {},
   "source": [
    "### Get Masters from europeantour.com instead\n",
    "\n",
    "It is partially populated before 1999"
   ]
  },
  {
   "cell_type": "code",
   "execution_count": 4,
   "id": "6a5abb6a-83fd-4919-a94d-4d8c18ebb497",
   "metadata": {},
   "outputs": [],
   "source": [
    "driver = webdriver.Firefox()"
   ]
  },
  {
   "cell_type": "code",
   "execution_count": 15,
   "id": "e2366514-b2bf-4279-8ac5-3d4bcf3d7d4a",
   "metadata": {},
   "outputs": [
    {
     "name": "stdout",
     "output_type": "stream",
     "text": [
      "1990 85 85\n",
      "1991 87 87\n",
      "1992 83 83\n",
      "1993 90 90\n",
      "1994 86 86\n",
      "1995 86 86\n",
      "1996 92 92\n",
      "1997 87 87\n",
      "1998 90 90\n",
      "1999 97 97\n",
      "2000 95 95\n",
      "2001 93 93\n",
      "2002 88 88\n",
      "2003 93 93\n",
      "2004 93 93\n",
      "2005 93 93\n",
      "2006 90 90\n",
      "2007 96 96\n",
      "2008 95 95\n",
      "2009 96 96\n",
      "2010 97 97\n",
      "2011 99 99\n",
      "2012 95 95\n",
      "2013 93 93\n",
      "2014 97 97\n",
      "2015 97 97\n",
      "2016 89 89\n",
      "2017 93 93\n",
      "2018 87 87\n",
      "2019 87 87\n",
      "2020 92 92\n",
      "2021 88 88\n"
     ]
    }
   ],
   "source": [
    "masters_b_leaderboards_dict = {}\n",
    "\n",
    "for year in range(1990,2022):\n",
    "    if year >= 2018:\n",
    "        driver.get(f'https://www.europeantour.com/european-tour/the-masters-{year}/results?round=4')\n",
    "    else:\n",
    "        driver.get(f'https://www.europeantour.com/european-tour/masters-tournament-{year}/results?round=4')\n",
    "    time.sleep(2)\n",
    "    lboard_rows = driver.find_elements_by_class_name('table-responsive')[0].find_elements_by_class_name('leaderboard__row')\n",
    "\n",
    "    leaderboard = []\n",
    "    for row in lboard_rows:\n",
    "        player_name = row.find_elements_by_class_name('table__cell--name-col.text--left')[0].text\n",
    "        player_name = player_name.split('\\n')[0] #some have a logo after the name\n",
    "        round_scores = [row.find_elements_by_class_name('table__cell--grey.table__cell--round-strokes.table__cell--round-'+str(r))[0].text for r in [1,2,3,4]]\n",
    "        leaderboard.append({'player': player_name, \n",
    "                            'R1': None if round_scores[0]=='-' else int(round_scores[0]), \n",
    "                            'R2': None if round_scores[1]=='-' else int(round_scores[1]), \n",
    "                            'R3': None if round_scores[2]=='-' else int(round_scores[2]), \n",
    "                            'R4': None if round_scores[3]=='-' else int(round_scores[3])})\n",
    "    print(year, len(lboard_rows), len(leaderboard))\n",
    "\n",
    "    leaderboard_df = pd.DataFrame(leaderboard)\n",
    "    leaderboard_df['made_cut'] = ~leaderboard_df.R3.isnull()\n",
    "    leaderboard_df['total_at_R1'] = leaderboard_df['R1']\n",
    "    leaderboard_df['total_at_R2'] = leaderboard_df['R1'] + leaderboard_df['R2']\n",
    "    leaderboard_df['total_at_R3'] = leaderboard_df['total_at_R2'] + leaderboard_df['R3']\n",
    "    leaderboard_df['total_at_R4'] = leaderboard_df['total_at_R3'] + leaderboard_df['R4']\n",
    "    leaderboard_df['pos_at_R1'] = leaderboard_df.apply(lambda row: sum(leaderboard_df.total_at_R1 < row['total_at_R1']) + 1, axis=1)\n",
    "    leaderboard_df['pos_at_R2'] = leaderboard_df.apply(lambda row: sum(leaderboard_df.total_at_R2 < row['total_at_R2']) + 1, axis=1)\n",
    "    leaderboard_df['pos_at_R3'] = leaderboard_df.apply(lambda row: sum(leaderboard_df.total_at_R3 < row['total_at_R3']) + 1, axis=1)\n",
    "    leaderboard_df['pos_at_R4'] = leaderboard_df.apply(lambda row: sum(leaderboard_df.total_at_R4 < row['total_at_R4']) + 1, axis=1)\n",
    "\n",
    "    masters_b_leaderboards_dict[year] = leaderboard_df"
   ]
  },
  {
   "cell_type": "code",
   "execution_count": 18,
   "id": "38941c0a-c299-4110-acb6-bef7f1711758",
   "metadata": {},
   "outputs": [
    {
     "data": {
      "text/html": [
       "<div>\n",
       "<style scoped>\n",
       "    .dataframe tbody tr th:only-of-type {\n",
       "        vertical-align: middle;\n",
       "    }\n",
       "\n",
       "    .dataframe tbody tr th {\n",
       "        vertical-align: top;\n",
       "    }\n",
       "\n",
       "    .dataframe thead th {\n",
       "        text-align: right;\n",
       "    }\n",
       "</style>\n",
       "<table border=\"1\" class=\"dataframe\">\n",
       "  <thead>\n",
       "    <tr style=\"text-align: right;\">\n",
       "      <th></th>\n",
       "      <th>player</th>\n",
       "      <th>R1</th>\n",
       "      <th>R2</th>\n",
       "      <th>R3</th>\n",
       "      <th>R4</th>\n",
       "      <th>made_cut</th>\n",
       "      <th>total_at_R1</th>\n",
       "      <th>total_at_R2</th>\n",
       "      <th>total_at_R3</th>\n",
       "      <th>total_at_R4</th>\n",
       "      <th>pos_at_R1</th>\n",
       "      <th>pos_at_R2</th>\n",
       "      <th>pos_at_R3</th>\n",
       "      <th>pos_at_R4</th>\n",
       "    </tr>\n",
       "  </thead>\n",
       "  <tbody>\n",
       "    <tr>\n",
       "      <th>0</th>\n",
       "      <td>MATSUYAMA, Hideki</td>\n",
       "      <td>69</td>\n",
       "      <td>71.0</td>\n",
       "      <td>65.0</td>\n",
       "      <td>73.0</td>\n",
       "      <td>True</td>\n",
       "      <td>69</td>\n",
       "      <td>140.0</td>\n",
       "      <td>205.0</td>\n",
       "      <td>278.0</td>\n",
       "      <td>2</td>\n",
       "      <td>6</td>\n",
       "      <td>1</td>\n",
       "      <td>1</td>\n",
       "    </tr>\n",
       "    <tr>\n",
       "      <th>1</th>\n",
       "      <td>ZALATORIS, Will</td>\n",
       "      <td>70</td>\n",
       "      <td>68.0</td>\n",
       "      <td>71.0</td>\n",
       "      <td>70.0</td>\n",
       "      <td>True</td>\n",
       "      <td>70</td>\n",
       "      <td>138.0</td>\n",
       "      <td>209.0</td>\n",
       "      <td>279.0</td>\n",
       "      <td>4</td>\n",
       "      <td>2</td>\n",
       "      <td>2</td>\n",
       "      <td>2</td>\n",
       "    </tr>\n",
       "    <tr>\n",
       "      <th>2</th>\n",
       "      <td>SCHAUFFELE, Xander</td>\n",
       "      <td>72</td>\n",
       "      <td>69.0</td>\n",
       "      <td>68.0</td>\n",
       "      <td>72.0</td>\n",
       "      <td>True</td>\n",
       "      <td>72</td>\n",
       "      <td>141.0</td>\n",
       "      <td>209.0</td>\n",
       "      <td>281.0</td>\n",
       "      <td>13</td>\n",
       "      <td>12</td>\n",
       "      <td>2</td>\n",
       "      <td>3</td>\n",
       "    </tr>\n",
       "    <tr>\n",
       "      <th>3</th>\n",
       "      <td>SPIETH, Jordan</td>\n",
       "      <td>71</td>\n",
       "      <td>68.0</td>\n",
       "      <td>72.0</td>\n",
       "      <td>70.0</td>\n",
       "      <td>True</td>\n",
       "      <td>71</td>\n",
       "      <td>139.0</td>\n",
       "      <td>211.0</td>\n",
       "      <td>281.0</td>\n",
       "      <td>8</td>\n",
       "      <td>4</td>\n",
       "      <td>7</td>\n",
       "      <td>3</td>\n",
       "    </tr>\n",
       "    <tr>\n",
       "      <th>4</th>\n",
       "      <td>LEISHMAN, Marc</td>\n",
       "      <td>72</td>\n",
       "      <td>67.0</td>\n",
       "      <td>70.0</td>\n",
       "      <td>73.0</td>\n",
       "      <td>True</td>\n",
       "      <td>72</td>\n",
       "      <td>139.0</td>\n",
       "      <td>209.0</td>\n",
       "      <td>282.0</td>\n",
       "      <td>13</td>\n",
       "      <td>4</td>\n",
       "      <td>2</td>\n",
       "      <td>5</td>\n",
       "    </tr>\n",
       "    <tr>\n",
       "      <th>...</th>\n",
       "      <td>...</td>\n",
       "      <td>...</td>\n",
       "      <td>...</td>\n",
       "      <td>...</td>\n",
       "      <td>...</td>\n",
       "      <td>...</td>\n",
       "      <td>...</td>\n",
       "      <td>...</td>\n",
       "      <td>...</td>\n",
       "      <td>...</td>\n",
       "      <td>...</td>\n",
       "      <td>...</td>\n",
       "      <td>...</td>\n",
       "      <td>...</td>\n",
       "    </tr>\n",
       "    <tr>\n",
       "      <th>83</th>\n",
       "      <td>IM, Sungjae</td>\n",
       "      <td>77</td>\n",
       "      <td>80.0</td>\n",
       "      <td>NaN</td>\n",
       "      <td>NaN</td>\n",
       "      <td>False</td>\n",
       "      <td>77</td>\n",
       "      <td>157.0</td>\n",
       "      <td>NaN</td>\n",
       "      <td>NaN</td>\n",
       "      <td>72</td>\n",
       "      <td>83</td>\n",
       "      <td>1</td>\n",
       "      <td>1</td>\n",
       "    </tr>\n",
       "    <tr>\n",
       "      <th>84</th>\n",
       "      <td>SINGH, Vijay</td>\n",
       "      <td>79</td>\n",
       "      <td>80.0</td>\n",
       "      <td>NaN</td>\n",
       "      <td>NaN</td>\n",
       "      <td>False</td>\n",
       "      <td>79</td>\n",
       "      <td>159.0</td>\n",
       "      <td>NaN</td>\n",
       "      <td>NaN</td>\n",
       "      <td>80</td>\n",
       "      <td>85</td>\n",
       "      <td>1</td>\n",
       "      <td>1</td>\n",
       "    </tr>\n",
       "    <tr>\n",
       "      <th>85</th>\n",
       "      <td>STRAFACI, Tyler</td>\n",
       "      <td>80</td>\n",
       "      <td>81.0</td>\n",
       "      <td>NaN</td>\n",
       "      <td>NaN</td>\n",
       "      <td>False</td>\n",
       "      <td>80</td>\n",
       "      <td>161.0</td>\n",
       "      <td>NaN</td>\n",
       "      <td>NaN</td>\n",
       "      <td>84</td>\n",
       "      <td>86</td>\n",
       "      <td>1</td>\n",
       "      <td>1</td>\n",
       "    </tr>\n",
       "    <tr>\n",
       "      <th>86</th>\n",
       "      <td>MIZE, Larry</td>\n",
       "      <td>84</td>\n",
       "      <td>79.0</td>\n",
       "      <td>NaN</td>\n",
       "      <td>NaN</td>\n",
       "      <td>False</td>\n",
       "      <td>84</td>\n",
       "      <td>163.0</td>\n",
       "      <td>NaN</td>\n",
       "      <td>NaN</td>\n",
       "      <td>88</td>\n",
       "      <td>87</td>\n",
       "      <td>1</td>\n",
       "      <td>1</td>\n",
       "    </tr>\n",
       "    <tr>\n",
       "      <th>87</th>\n",
       "      <td>WOLFF, Matthew</td>\n",
       "      <td>76</td>\n",
       "      <td>NaN</td>\n",
       "      <td>NaN</td>\n",
       "      <td>NaN</td>\n",
       "      <td>False</td>\n",
       "      <td>76</td>\n",
       "      <td>NaN</td>\n",
       "      <td>NaN</td>\n",
       "      <td>NaN</td>\n",
       "      <td>60</td>\n",
       "      <td>1</td>\n",
       "      <td>1</td>\n",
       "      <td>1</td>\n",
       "    </tr>\n",
       "  </tbody>\n",
       "</table>\n",
       "<p>88 rows × 14 columns</p>\n",
       "</div>"
      ],
      "text/plain": [
       "                player  R1    R2    R3    R4  made_cut  total_at_R1  \\\n",
       "0    MATSUYAMA, Hideki  69  71.0  65.0  73.0      True           69   \n",
       "1      ZALATORIS, Will  70  68.0  71.0  70.0      True           70   \n",
       "2   SCHAUFFELE, Xander  72  69.0  68.0  72.0      True           72   \n",
       "3       SPIETH, Jordan  71  68.0  72.0  70.0      True           71   \n",
       "4       LEISHMAN, Marc  72  67.0  70.0  73.0      True           72   \n",
       "..                 ...  ..   ...   ...   ...       ...          ...   \n",
       "83         IM, Sungjae  77  80.0   NaN   NaN     False           77   \n",
       "84        SINGH, Vijay  79  80.0   NaN   NaN     False           79   \n",
       "85     STRAFACI, Tyler  80  81.0   NaN   NaN     False           80   \n",
       "86         MIZE, Larry  84  79.0   NaN   NaN     False           84   \n",
       "87      WOLFF, Matthew  76   NaN   NaN   NaN     False           76   \n",
       "\n",
       "    total_at_R2  total_at_R3  total_at_R4  pos_at_R1  pos_at_R2  pos_at_R3  \\\n",
       "0         140.0        205.0        278.0          2          6          1   \n",
       "1         138.0        209.0        279.0          4          2          2   \n",
       "2         141.0        209.0        281.0         13         12          2   \n",
       "3         139.0        211.0        281.0          8          4          7   \n",
       "4         139.0        209.0        282.0         13          4          2   \n",
       "..          ...          ...          ...        ...        ...        ...   \n",
       "83        157.0          NaN          NaN         72         83          1   \n",
       "84        159.0          NaN          NaN         80         85          1   \n",
       "85        161.0          NaN          NaN         84         86          1   \n",
       "86        163.0          NaN          NaN         88         87          1   \n",
       "87          NaN          NaN          NaN         60          1          1   \n",
       "\n",
       "    pos_at_R4  \n",
       "0           1  \n",
       "1           2  \n",
       "2           3  \n",
       "3           3  \n",
       "4           5  \n",
       "..        ...  \n",
       "83          1  \n",
       "84          1  \n",
       "85          1  \n",
       "86          1  \n",
       "87          1  \n",
       "\n",
       "[88 rows x 14 columns]"
      ]
     },
     "execution_count": 18,
     "metadata": {},
     "output_type": "execute_result"
    }
   ],
   "source": [
    "masters_b_leaderboards_dict[2021]"
   ]
  },
  {
   "cell_type": "code",
   "execution_count": 29,
   "id": "920e3555-4f58-42e9-b51d-4083f3fce983",
   "metadata": {},
   "outputs": [],
   "source": [
    "masters_replace_df = []\n",
    "for year, tmp in masters_b_leaderboards_dict.items():\n",
    "    tmp['year'] = year\n",
    "    tmp['comp'] = 'masters'\n",
    "    masters_replace_df.append(tmp)\n",
    "masters_replace_df = pd.concat(masters_replace_df)    "
   ]
  },
  {
   "cell_type": "code",
   "execution_count": 30,
   "id": "e7253709-b0ca-4821-aff4-d9b4ddf7215c",
   "metadata": {},
   "outputs": [
    {
     "data": {
      "text/plain": [
       "(2929, 16)"
      ]
     },
     "execution_count": 30,
     "metadata": {},
     "output_type": "execute_result"
    }
   ],
   "source": [
    "masters_replace_df.shape"
   ]
  },
  {
   "cell_type": "code",
   "execution_count": 31,
   "id": "99afb7b5-09ed-488a-88a3-7786514772bf",
   "metadata": {},
   "outputs": [
    {
     "name": "stdout",
     "output_type": "stream",
     "text": [
      "(12765, 16)\n"
     ]
    },
    {
     "data": {
      "text/plain": [
       "(14012, 16)"
      ]
     },
     "execution_count": 31,
     "metadata": {},
     "output_type": "execute_result"
    }
   ],
   "source": [
    "df_old = pd.read_csv('golf_majors_round_data_1990_2021.csv')\n",
    "print(df_old.shape)\n",
    "df_new = pd.concat([df_old[df_old.comp != 'masters'], masters_replace_df])\n",
    "df_new.shape"
   ]
  },
  {
   "cell_type": "code",
   "execution_count": 32,
   "id": "876284ee-00fc-43a0-97c5-0481f9a49eb6",
   "metadata": {},
   "outputs": [
    {
     "data": {
      "text/plain": [
       "usopen     4134\n",
       "uspga      3567\n",
       "theopen    3382\n",
       "masters    2929\n",
       "Name: comp, dtype: int64"
      ]
     },
     "execution_count": 32,
     "metadata": {},
     "output_type": "execute_result"
    }
   ],
   "source": [
    "df_new.comp.value_counts()"
   ]
  },
  {
   "cell_type": "code",
   "execution_count": 33,
   "id": "3c63ef5c-382d-4048-a8f1-8ea620716767",
   "metadata": {},
   "outputs": [],
   "source": [
    "df_new.to_csv('golf_majors_round_data_1990_2021.csv', index=False)"
   ]
  }
 ],
 "metadata": {
  "kernelspec": {
   "display_name": "Python 3",
   "language": "python",
   "name": "python3"
  },
  "language_info": {
   "codemirror_mode": {
    "name": "ipython",
    "version": 3
   },
   "file_extension": ".py",
   "mimetype": "text/x-python",
   "name": "python",
   "nbconvert_exporter": "python",
   "pygments_lexer": "ipython3",
   "version": "3.7.6"
  }
 },
 "nbformat": 4,
 "nbformat_minor": 5
}
